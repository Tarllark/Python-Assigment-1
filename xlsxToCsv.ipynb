{
 "cells": [
  {
   "cell_type": "code",
   "execution_count": 36,
   "metadata": {},
   "outputs": [
    {
     "name": "stdout",
     "output_type": "stream",
     "text": [
      "['Sepal length', 5.1, 4.9, 4.7, 4.6, 5, 5.4, 4.6, 5, 4.4, 4.9, 5.4, 4.8, 4.8, 4.3, 5.8, 5.7, 5.4, 5.1, 5.7, 5.1, 5.4, 5.1, 4.6, 5.1, 4.8, 5, 5, 5.2, 5.2, 4.7, 4.8, 5.4, 5.2, 5.5, 4.9, 5, 5.5, 4.9, 4.4, 5.1, 5, 4.5, 4.4, 5, 5.1, 4.8, 5.1, 4.6, 5.3, 5, 7, 6.4, 6.9, 5.5, 6.5, 5.7, 6.3, 4.9, 6.6, 5.2, 5, 5.9, 6, 6.1, 5.6, 6.7, 5.6, 5.8, 6.2, 5.6, 5.9, 6.1, 6.3, 6.1, 6.4, 6.6, 6.8, 6.7, 6, 5.7, 5.5, 5.5, 5.8, 6, 5.4, 6, 6.7, 6.3, 5.6, 5.5, 5.5, 6.1, 5.8, 5, 5.6, 5.7, 5.7, 6.2, 5.1, 5.7, 6.3, 5.8, 7.1, 6.3, 6.5, 7.6, 4.9, 7.3, 6.7, 7.2, 6.5, 6.4, 6.8, 5.7, 5.8, 6.4, 6.5, 7.7, 7.7, 6, 6.9, 5.6, 7.7, 6.3, 6.7, 7.2, 6.2, 6.1, 6.4, 7.2, 7.4, 7.9, 6.4, 6.3, 6.1, 7.7, 6.3, 6.4, 6, 6.9, 6.7, 6.9, 5.8, 6.8, 6.7, 6.7, 6.3, 6.5, 6.2, 5.9]\n",
      "['Sepal width', 3.5, 3, 3.2, 3.1, 3.6, 3.9, 3.4, 3.4, 2.9, 3.1, 3.7, 3.4, 3, 3, 4, 4.4, 3.9, 3.5, 3.8, 3.8, 3.4, 3.7, 3.6, 3.3, 3.4, 3, 3.4, 3.5, 3.4, 3.2, 3.1, 3.4, 4.1, 4.2, 3.1, 3.2, 3.5, 3.6, 3, 3.4, 3.5, 2.3, 3.2, 3.5, 3.8, 3, 3.8, 3.2, 3.7, 3.3, 3.2, 3.2, 3.1, 2.3, 2.8, 2.8, 3.3, 2.4, 2.9, 2.7, 2, 3, 2.2, 2.9, 2.9, 3.1, 3, 2.7, 2.2, 2.5, 3.2, 2.8, 2.5, 2.8, 2.9, 3, 2.8, 3, 2.9, 2.6, 2.4, 2.4, 2.7, 2.7, 3, 3.4, 3.1, 2.3, 3, 2.5, 2.6, 3, 2.6, 2.3, 2.7, 3, 2.9, 2.9, 2.5, 2.8, 3.3, 2.7, 3, 2.9, 3, 3, 2.5, 2.9, 2.5, 3.6, 3.2, 2.7, 3, 2.5, 2.8, 3.2, 3, 3.8, 2.6, 2.2, 3.2, 2.8, 2.8, 2.7, 3.3, 3.2, 2.8, 3, 2.8, 3, 2.8, 3.8, 2.8, 2.8, 2.6, 3, 3.4, 3.1, 3, 3.1, 3.1, 3.1, 2.7, 3.2, 3.3, 3, 2.5, 3, 3.4, 3]\n",
      "['Petal length', 1.4, 1.4, 1.3, 1.5, 1.4, 1.7, 1.4, 1.5, 1.4, 1.5, 1.5, 1.6, 1.4, 1.1, 1.2, 1.5, 1.3, 1.4, 1.7, 1.5, 1.7, 1.5, 1, 1.7, 1.9, 1.6, 1.6, 1.5, 1.4, 1.6, 1.6, 1.5, 1.5, 1.4, 1.5, 1.2, 1.3, 1.4, 1.3, 1.5, 1.3, 1.3, 1.3, 1.6, 1.9, 1.4, 1.6, 1.4, 1.5, 1.4, 4.7, 4.5, 4.9, 4, 4.6, 4.5, 4.7, 3.3, 4.6, 3.9, 3.5, 4.2, 4, 4.7, 3.6, 4.4, 4.5, 4.1, 4.5, 3.9, 4.8, 4, 4.9, 4.7, 4.3, 4.4, 4.8, 5, 4.5, 3.5, 3.8, 3.7, 3.9, 5.1, 4.5, 4.5, 4.7, 4.4, 4.1, 4, 4.4, 4.6, 4, 3.3, 4.2, 4.2, 4.2, 4.3, 3, 4.1, 6, 5.1, 5.9, 5.6, 5.8, 6.6, 4.5, 6.3, 5.8, 6.1, 5.1, 5.3, 5.5, 5, 5.1, 5.3, 5.5, 6.7, 6.9, 5, 5.7, 4.9, 6.7, 4.9, 5.7, 6, 4.8, 4.9, 5.6, 5.8, 6.1, 6.4, 5.6, 5.1, 5.6, 6.1, 5.6, 5.5, 4.8, 5.4, 5.6, 5.1, 5.1, 5.9, 5.7, 5.2, 5, 5.2, 5.4, 5.1]\n",
      "['Petal width', 0.2, 0.2, 0.2, 0.2, 0.2, 0.4, 0.3, 0.2, 0.2, 0.1, 0.2, 0.2, 0.1, 0.1, 0.2, 0.4, 0.4, 0.3, 0.3, 0.3, 0.2, 0.4, 0.2, 0.5, 0.2, 0.2, 0.4, 0.2, 0.2, 0.2, 0.2, 0.4, 0.1, 0.2, 0.2, 0.2, 0.2, 0.1, 0.2, 0.2, 0.3, 0.3, 0.2, 0.6, 0.4, 0.3, 0.2, 0.2, 0.2, 0.2, 1.4, 1.5, 1.5, 1.3, 1.5, 1.3, 1.6, 1, 1.3, 1.4, 1, 1.5, 1, 1.4, 1.3, 1.4, 1.5, 1, 1.5, 1.1, 1.8, 1.3, 1.5, 1.2, 1.3, 1.4, 1.4, 1.7, 1.5, 1, 1.1, 1, 1.2, 1.6, 1.5, 1.6, 1.5, 1.3, 1.3, 1.3, 1.2, 1.4, 1.2, 1, 1.3, 1.2, 1.3, 1.3, 1.1, 1.3, 2.5, 1.9, 2.1, 1.8, 2.2, 2.1, 1.7, 1.8, 1.8, 2.5, 2, 1.9, 2.1, 2, 2.4, 2.3, 1.8, 2.2, 2.3, 1.5, 2.3, 2, 2, 1.8, 2.1, 1.8, 1.8, 1.8, 2.1, 1.6, 1.9, 2, 2.2, 1.5, 1.4, 2.3, 2.4, 1.8, 1.8, 2.1, 2.4, 2.3, 1.9, 2.3, 2.5, 2.3, 1.9, 2, 2.3, 1.8]\n",
      "['Species', 'I. setosa', 'I. setosa', 'I. setosa', 'I. setosa', 'I. setosa', 'I. setosa', 'I. setosa', 'I. setosa', 'I. setosa', 'I. setosa', 'I. setosa', 'I. setosa', 'I. setosa', 'I. setosa', 'I. setosa', 'I. setosa', 'I. setosa', 'I. setosa', 'I. setosa', 'I. setosa', 'I. setosa', 'I. setosa', 'I. setosa', 'I. setosa', 'I. setosa', 'I. setosa', 'I. setosa', 'I. setosa', 'I. setosa', 'I. setosa', 'I. setosa', 'I. setosa', 'I. setosa', 'I. setosa', 'I. setosa', 'I. setosa', 'I. setosa', 'I. setosa', 'I. setosa', 'I. setosa', 'I. setosa', 'I. setosa', 'I. setosa', 'I. setosa', 'I. setosa', 'I. setosa', 'I. setosa', 'I. setosa', 'I. setosa', 'I. setosa', 'I. versicolor', 'I. versicolor', 'I. versicolor', 'I. versicolor', 'I. versicolor', 'I. versicolor', 'I. versicolor', 'I. versicolor', 'I. versicolor', 'I. versicolor', 'I. versicolor', 'I. versicolor', 'I. versicolor', 'I. versicolor', 'I. versicolor', 'I. versicolor', 'I. versicolor', 'I. versicolor', 'I. versicolor', 'I. versicolor', 'I. versicolor', 'I. versicolor', 'I. versicolor', 'I. versicolor', 'I. versicolor', 'I. versicolor', 'I. versicolor', 'I. versicolor', 'I. versicolor', 'I. versicolor', 'I. versicolor', 'I. versicolor', 'I. versicolor', 'I. versicolor', 'I. versicolor', 'I. versicolor', 'I. versicolor', 'I. versicolor', 'I. versicolor', 'I. versicolor', 'I. versicolor', 'I. versicolor', 'I. versicolor', 'I. versicolor', 'I. versicolor', 'I. versicolor', 'I. versicolor', 'I. versicolor', 'I. versicolor', 'I. versicolor', 'I. virginica', 'I. virginica', 'I. virginica', 'I. virginica', 'I. virginica', 'I. virginica', 'I. virginica', 'I. virginica', 'I. virginica', 'I. virginica', 'I. virginica', 'I. virginica', 'I. virginica', 'I. virginica', 'I. virginica', 'I. virginica', 'I. virginica', 'I. virginica', 'I. virginica', 'I. virginica', 'I. virginica', 'I. virginica', 'I. virginica', 'I. virginica', 'I. virginica', 'I. virginica', 'I. virginica', 'I. virginica', 'I. virginica', 'I. virginica', 'I. virginica', 'I. virginica', 'I. virginica', 'I. virginica', 'I. virginica', 'I. virginica', 'I. virginica', 'I. virginica', 'I. virginica', 'I. virginica', 'I. virginica', 'I. virginica', 'I. virginica', 'I. virginica', 'I. virginica', 'I. virginica', 'I. virginica', 'I. virginica', 'I. virginica', 'I. virginica']\n"
     ]
    }
   ],
   "source": [
    "import openpyxl\n",
    "import csv\n",
    "import platform\n",
    "\n",
    "if platform.system() == 'Windows':\n",
    "    newline=''\n",
    "else:\n",
    "    newline=None\n",
    "\n",
    "filename = 'Assignments/iris_data.xlsx'\n",
    "wb = openpyxl.load_workbook(filename)\n",
    "sheet = wb.active\n",
    "lengthofsheet = len(list(sheet.columns))\n",
    "\n",
    "with open('output.csv', 'a+', newline=newline) as output_file:\n",
    "    output_writer = csv.writer(output_file)\n",
    "    for idcol in range(lengthofsheet):\n",
    "        linelist = []\n",
    "        for cellObj in list(sheet.columns)[idcol]:\n",
    "            linelist.append(cellObj.value)\n",
    "        output_writer.writerow(linelist)"
   ]
  }
 ],
 "metadata": {
  "kernelspec": {
   "display_name": "Python 3",
   "language": "python",
   "name": "python3"
  },
  "language_info": {
   "codemirror_mode": {
    "name": "ipython",
    "version": 3
   },
   "file_extension": ".py",
   "mimetype": "text/x-python",
   "name": "python",
   "nbconvert_exporter": "python",
   "pygments_lexer": "ipython3",
   "version": "3.7.1"
  }
 },
 "nbformat": 4,
 "nbformat_minor": 2
}
